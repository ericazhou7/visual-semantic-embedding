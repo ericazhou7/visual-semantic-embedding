{
 "cells": [
  {
   "cell_type": "code",
   "execution_count": 1,
   "metadata": {},
   "outputs": [
    {
     "name": "stdout",
     "output_type": "stream",
     "text": [
      "/Users/ericazhou/Dropbox (MIT)/MIT/MEng/Semester 2/6.864/project/visual-semantic-embedding/models/coco.npz\n",
      "Loading dictionary...\n",
      "Creating inverted dictionary...\n",
      "Loading model options...\n",
      "Loading model parameters...\n",
      "Compiling sentence encoder...\n",
      "Compiling image encoder...\n",
      "Packing up...\n",
      "Loading dataset\n",
      "Computing results...\n",
      "Image to text: 0.1, 0.2, 1.1, 741.0\n",
      "Text to image: 0.1, 0.5, 1.0, 501.0\n"
     ]
    }
   ],
   "source": [
    "import tools, evaluation\n",
    "model = tools.load_model()\n",
    "evaluation.evalrank(model, data='coco', split='test')"
   ]
  }
 ],
 "metadata": {
  "kernelspec": {
   "display_name": "Python 3",
   "language": "python",
   "name": "python3"
  },
  "language_info": {
   "codemirror_mode": {
    "name": "ipython",
    "version": 3
   },
   "file_extension": ".py",
   "mimetype": "text/x-python",
   "name": "python",
   "nbconvert_exporter": "python",
   "pygments_lexer": "ipython3",
   "version": "3.7.6"
  }
 },
 "nbformat": 4,
 "nbformat_minor": 2
}
